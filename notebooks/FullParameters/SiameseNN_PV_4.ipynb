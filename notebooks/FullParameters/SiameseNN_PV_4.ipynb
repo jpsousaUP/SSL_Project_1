{
 "cells": [
  {
   "cell_type": "code",
   "execution_count": 1,
   "metadata": {},
   "outputs": [
    {
     "name": "stderr",
     "output_type": "stream",
     "text": [
      "2024-01-21 11:28:22.602090: I tensorflow/core/util/port.cc:113] oneDNN custom operations are on. You may see slightly different numerical results due to floating-point round-off errors from different computation orders. To turn them off, set the environment variable `TF_ENABLE_ONEDNN_OPTS=0`.\n",
      "2024-01-21 11:28:22.670377: E external/local_xla/xla/stream_executor/cuda/cuda_dnn.cc:9261] Unable to register cuDNN factory: Attempting to register factory for plugin cuDNN when one has already been registered\n",
      "2024-01-21 11:28:22.670414: E external/local_xla/xla/stream_executor/cuda/cuda_fft.cc:607] Unable to register cuFFT factory: Attempting to register factory for plugin cuFFT when one has already been registered\n",
      "2024-01-21 11:28:22.672423: E external/local_xla/xla/stream_executor/cuda/cuda_blas.cc:1515] Unable to register cuBLAS factory: Attempting to register factory for plugin cuBLAS when one has already been registered\n",
      "2024-01-21 11:28:22.684380: I tensorflow/core/platform/cpu_feature_guard.cc:182] This TensorFlow binary is optimized to use available CPU instructions in performance-critical operations.\n",
      "To enable the following instructions: AVX2 AVX512F AVX512_VNNI FMA, in other operations, rebuild TensorFlow with the appropriate compiler flags.\n",
      "2024-01-21 11:28:23.486821: W tensorflow/compiler/tf2tensorrt/utils/py_utils.cc:38] TF-TRT Warning: Could not find TensorRT\n"
     ]
    }
   ],
   "source": [
    "#-*- coding: utf-8 -*-\n",
    "\n",
    "import tensorflow as tf\n",
    "# dont display much info of tensorflow\n",
    "import os\n",
    "os.environ['TF_CPP_MIN_LOG_LEVEL'] = '3'  # or any level you prefer\n",
    "\n",
    "# limit gpu memory usage only as much as needed\n",
    "gpus = tf.config.experimental.list_physical_devices('GPU')\n",
    "if gpus:\n",
    "  try:\n",
    "    # Currently, memory growth needs to be the same across GPUs\n",
    "    for gpu in gpus:\n",
    "        print(\"Setting memory growth to True for GPU: \", gpu)\n",
    "        tf.config.experimental.set_memory_growth(gpu, True)\n",
    "    logical_gpus = tf.config.experimental.list_logical_devices('GPU')\n",
    "    print(\"Physical GPUs: \", len(gpus), \"Logical GPUs: \", len(logical_gpus))\n",
    "  except RuntimeError as e:\n",
    "    # Memory growth must be set before GPUs have been initialized\n",
    "    print(e)\n",
    "\n",
    "from tensorflow.keras import layers, models, Input, Model\n",
    "from tensorflow.keras.layers import Lambda, Dense, Flatten, Conv2D, MaxPooling2D, Dropout, BatchNormalization, Activation, GlobalAveragePooling2D, Concatenate, Add, AveragePooling2D\n",
    "import numpy as np\n",
    "\n",
    "import matplotlib.pyplot as plt\n"
   ]
  },
  {
   "cell_type": "code",
   "execution_count": null,
   "metadata": {},
   "outputs": [
    {
     "name": "stdout",
     "output_type": "stream",
     "text": [
      "manta shape:  (9587, 320, 320)\n",
      "xiris shape:  (9587, 320, 320)\n",
      "feats shape:  (9587, 8)\n",
      "y shape:  (9587, 2)\n",
      "max of each column:  [2750   15]\n",
      "feats max:  [232. 159.]\n"
     ]
    }
   ],
   "source": [
    "# Load data\n",
    "manta_path = \"/home/vm/SSL_Project_1/data/processed/bag_2023-07-04_15-23-48/_manta.npy\"\n",
    "xiris_path = \"/home/vm/SSL_Project_1/data/processed/bag_2023-07-04_15-23-48/_xiris.npy\"\n",
    "y_path = \"/home/vm/SSL_Project_1/data/processed/bag_2023-07-04_15-23-48/_y.npy\"\n",
    "feats_path = \"/home/vm/SSL_Project_1/data/processed/bag_2023-07-04_15-23-48/_feats.npy\"\n",
    "\n",
    "# load numpy arrays and display shapes\n",
    "manta = np.load(manta_path)\n",
    "xiris = np.load(xiris_path)\n",
    "params = np.load(y_path)\n",
    "print(\"manta shape: \", manta.shape)\n",
    "print(\"xiris shape: \", xiris.shape)\n",
    "feats = np.load(feats_path)\n",
    "print(\"feats shape: \", feats.shape)\n",
    "\n",
    "\n",
    "\n",
    "# use laser power and velocity as labels\n",
    "params = params[:, :2]\n",
    "print(\"y shape: \", params.shape)\n",
    "\n",
    "#y = np.concatenate((params, feats[:, 1:3]), axis=1) # L, H\n",
    "#print(\"y shape: \", y.shape)\n",
    "\n",
    "params_max = np.max(params, axis=0)\n",
    "y = params / params_max\n",
    "\n",
    "# print max of each column\n",
    "print(\"max of each column: \", params_max)\n",
    "\n",
    "feats = feats[:, 1:3] # remove laser power and velocity\n",
    "\n",
    "feats_max = np.max(feats, axis=0)\n",
    "feats = feats / feats_max\n",
    "\n",
    "print(\"feats max: \", feats_max)\n"
   ]
  },
  {
   "cell_type": "code",
   "execution_count": null,
   "metadata": {},
   "outputs": [
    {
     "data": {
      "text/plain": [
       "9587"
      ]
     },
     "execution_count": 3,
     "metadata": {},
     "output_type": "execute_result"
    }
   ],
   "source": [
    "len(y)"
   ]
  },
  {
   "cell_type": "code",
   "execution_count": null,
   "metadata": {},
   "outputs": [],
   "source": [
    "# divide data into train and test sets\n",
    "train_split = 0.8\n",
    "# randomize data with seed\n",
    "np.random.seed(42)\n",
    "indices = np.arange(len(y))\n",
    "\n",
    "# shuffle indices\n",
    "np.random.shuffle(indices)\n",
    "\n",
    "manta = manta[indices]\n",
    "xiris = xiris[indices]\n",
    "y = y[indices]\n",
    "feats = feats[indices]\n",
    "\n",
    "# split data\n",
    "train_samples = int(train_split * len(y))\n",
    "train_manta = manta[:train_samples]\n",
    "train_xiris = xiris[:train_samples]\n",
    "train_y = y[:train_samples]\n",
    "train_feats = feats[:train_samples]\n",
    "\n",
    "test_manta = manta[train_samples:]\n",
    "test_xiris = xiris[train_samples:]\n",
    "test_y = y[train_samples:]\n",
    "test_feats = feats[train_samples:]"
   ]
  },
  {
   "cell_type": "code",
   "execution_count": null,
   "metadata": {},
   "outputs": [],
   "source": [
    "# create a function to encode y\n",
    "def encode_one_column(y):\n",
    "    # create a new array of zeros with the same shape as y\n",
    "    encoded_y = np.zeros(y.shape)\n",
    "    # get the unique values in y\n",
    "    unique_values = np.unique(y)\n",
    "    # loop through the unique values\n",
    "    for i, value in enumerate(unique_values):\n",
    "        # find the indices where y equals the unique value\n",
    "        indices = np.where(y == value)\n",
    "        # set the indices in encoded_y to i\n",
    "        encoded_y[indices] = i\n",
    "    return encoded_y\n",
    "\n",
    "# create new array to store encoded y\n",
    "encoded_y = np.zeros(y.shape)\n",
    "# loop through each column in y and encode it\n",
    "for i in range(y.shape[1]):\n",
    "    encoded_y[:, i] = encode_one_column(y[:, i])\n",
    "    \n",
    "# convert to int\n",
    "encoded_y = encoded_y.astype(int) "
   ]
  },
  {
   "cell_type": "code",
   "execution_count": null,
   "metadata": {},
   "outputs": [
    {
     "data": {
      "text/plain": [
       "(9587, 2)"
      ]
     },
     "execution_count": 6,
     "metadata": {},
     "output_type": "execute_result"
    }
   ],
   "source": [
    "encoded_y.shape"
   ]
  },
  {
   "cell_type": "code",
   "execution_count": null,
   "metadata": {},
   "outputs": [],
   "source": [
    "train_encoded_y = encoded_y[:train_samples]"
   ]
  },
  {
   "cell_type": "code",
   "execution_count": null,
   "metadata": {},
   "outputs": [
    {
     "name": "stdout",
     "output_type": "stream",
     "text": [
      "Creating pairs for image 0/7669, Completed 0%\n",
      "Creating pairs for image 1000/7669, Completed 13%\n",
      "Creating pairs for image 2000/7669, Completed 26%\n",
      "Creating pairs for image 3000/7669, Completed 39%\n",
      "Creating pairs for image 4000/7669, Completed 52%\n",
      "Creating pairs for image 5000/7669, Completed 65%\n",
      "Creating pairs for image 6000/7669, Completed 78%\n",
      "Creating pairs for image 7000/7669, Completed 91%\n",
      "pairs shape:  (30676, 2, 320, 320)\n",
      "labels shape:  (30676, 4)\n"
     ]
    }
   ],
   "source": [
    "\n",
    "# crate pairs\n",
    "def create_pairs_2_labels(manta, xiris, y_encoded, feats):\n",
    "    # set seed\n",
    "    np.random.seed(42)\n",
    "        \n",
    "    pairs = []\n",
    "    labels = []\n",
    "    features = []\n",
    "    \n",
    "    # define numclasses with the same columns as y_encoded\n",
    "    numclasses = np.zeros(y_encoded.shape[1], dtype=int)\n",
    "\n",
    "    for i in range(y_encoded.shape[1]):\n",
    "        unique_values, unique_indices = np.unique(y_encoded[:, i], return_inverse=True)\n",
    "        numclasses[i] = len(unique_values)\n",
    "    \n",
    "    # creade idx1 and idx2\n",
    "    idx1 = [np.where(y_encoded==i)[0] for i in range(numclasses[0])]\n",
    "    idx2  = [np.where(y_encoded==i)[0] for i in range(numclasses[1])]\n",
    "\n",
    "    for idxA in range(len(y_encoded)):\n",
    "        # grab the current image and label belonging to the current iteration\n",
    "        currentImage = manta[idxA]\n",
    "        label = y_encoded[idxA]\n",
    "        p1 = label[0]\n",
    "        v1 = label[1]\n",
    "        p2 = np.random.choice(np.delete(np.arange(numclasses[0]), p1))\n",
    "        v2 = np.random.choice(np.delete(np.arange(numclasses[1]), v1))\n",
    "\n",
    "        # randomly pick an image that belongs to the same class label\n",
    "        idxB = np.random.choice(np.intersect1d(idx1[p1], idx2[v1])) #np.random.choice(idx[p1][v1])\n",
    "        x11 = xiris[idxB]\n",
    "        # prepare a positive pair and update the images and labels lists, respectively\n",
    "        pairs.append([currentImage, x11])\n",
    "        labels.append([p1, v1, p1, v1])\n",
    "        features.append([feats[idxA][0], feats[idxA][1], feats[idxB][0], feats[idxB][1]])\n",
    "\n",
    "        idxC = np.random.choice(np.intersect1d(idx1[p2], idx2[v1]))\n",
    "        x21 = xiris[idxC]\n",
    "        pairs.append([currentImage, x21])\n",
    "        labels.append([p1, v1, p2, v1])\n",
    "        features.append([feats[idxA][0], feats[idxA][1], feats[idxC][0], feats[idxC][1]])   \n",
    "            \n",
    "        idxD = np.random.choice(np.intersect1d(idx1[p1], idx2[v2]))\n",
    "        x12 = xiris[idxD]\n",
    "        pairs.append([currentImage, x12])\n",
    "        labels.append([p1, v1, p1, v2])\n",
    "        features.append([feats[idxA][0], feats[idxA][1], feats[idxD][0], feats[idxD][1]])\n",
    "        \n",
    "        idxE = np.random.choice(np.intersect1d(idx1[p2], idx2[v2]))\n",
    "        x22 = xiris[idxE]\n",
    "        pairs.append([currentImage, x22])\n",
    "        labels.append([p1, v1, p2, v2])\n",
    "        features.append([feats[idxA][0], feats[idxA][1], feats[idxE][0], feats[idxE][1]])\n",
    "    \n",
    "\n",
    "        if idxA % 1000 == 0:\n",
    "            print(f\"Creating pairs for image {idxA}/{len(y_encoded)}, Completed {int(idxA/len(y_encoded)*100)}%\")\n",
    "    \n",
    "    return np.array(pairs), np.array(labels), np.array(features)\n",
    "\n",
    "                                                                                             \n",
    "# create pairs\n",
    "pairs, labels, features = create_pairs_2_labels(train_manta, train_xiris, train_encoded_y, train_feats)\n",
    "print(\"pairs shape: \", pairs.shape)\n",
    "print(\"labels shape: \", labels.shape)"
   ]
  },
  {
   "cell_type": "code",
   "execution_count": null,
   "metadata": {},
   "outputs": [
    {
     "data": {
      "text/plain": [
       "' from sklearn.model_selection import train_test_split\\n\\nX_train, X_test, y_train, y_test = train_test_split(pairs, labels, test_size=0.2, random_state=42, shuffle=True)\\n\\ndel pairs, labels\\n\\n# print shapes\\nprint(\"X_train shape: \", X_train.shape, \"y_train shape: \", y_train.shape)\\nprint(\"X_test shape: \", X_test.shape, \"y_test shape: \", y_test.shape) '"
      ]
     },
     "execution_count": 9,
     "metadata": {},
     "output_type": "execute_result"
    }
   ],
   "source": [
    "\"\"\" from sklearn.model_selection import train_test_split\n",
    "\n",
    "X_train, X_test, y_train, y_test = train_test_split(pairs, labels, test_size=0.2, random_state=42, shuffle=True)\n",
    "\n",
    "del pairs, labels\n",
    "\n",
    "# print shapes\n",
    "print(\"X_train shape: \", X_train.shape, \"y_train shape: \", y_train.shape)\n",
    "print(\"X_test shape: \", X_test.shape, \"y_test shape: \", y_test.shape) \"\"\""
   ]
  },
  {
   "cell_type": "code",
   "execution_count": null,
   "metadata": {},
   "outputs": [
    {
     "ename": "NameError",
     "evalue": "name 'X_train' is not defined",
     "output_type": "error",
     "traceback": [
      "\u001b[0;31m---------------------------------------------------------------------------\u001b[0m",
      "\u001b[0;31mNameError\u001b[0m                                 Traceback (most recent call last)",
      "Cell \u001b[0;32mIn[10], line 54\u001b[0m\n\u001b[1;32m     51\u001b[0m     plt\u001b[38;5;241m.\u001b[39mshow()\n\u001b[1;32m     53\u001b[0m \u001b[38;5;66;03m# visualize pairs\u001b[39;00m\n\u001b[0;32m---> 54\u001b[0m visualize(\u001b[43mX_train\u001b[49m, y_train, to_show\u001b[38;5;241m=\u001b[39m\u001b[38;5;241m4\u001b[39m, num_col\u001b[38;5;241m=\u001b[39m\u001b[38;5;241m2\u001b[39m)\n",
      "\u001b[0;31mNameError\u001b[0m: name 'X_train' is not defined"
     ]
    }
   ],
   "source": [
    "def visualize(pairs, labels, to_show=6, num_col=3, predictions=None, test=False):\n",
    "    \"\"\"Creates a plot of pairs and labels, and prediction if it's test dataset.\n",
    "\n",
    "    Arguments:\n",
    "        pairs: Numpy Array, of pairs to visualize, having shape\n",
    "               (Number of pairs, 2, 28, 28).\n",
    "        to_show: Int, number of examples to visualize (default is 6)\n",
    "                `to_show` must be an integral multiple of `num_col`.\n",
    "                 Otherwise it will be trimmed if it is greater than num_col,\n",
    "                 and incremented if if it is less then num_col.\n",
    "        num_col: Int, number of images in one row - (default is 3)\n",
    "                 For test and train respectively, it should not exceed 3 and 7.\n",
    "        predictions: Numpy Array of predictions with shape (to_show, 1) -\n",
    "                     (default is None)\n",
    "                     Must be passed when test=True.\n",
    "        test: Boolean telling whether the dataset being visualized is\n",
    "              train dataset or test dataset - (default False).\n",
    "\n",
    "    Returns:\n",
    "        None.\n",
    "    \"\"\"\n",
    "\n",
    "    num_row = to_show // num_col if to_show // num_col != 0 else 1\n",
    "\n",
    "    # `to_show` must be an integral multiple of `num_col`\n",
    "    #  we found num_row and we have num_col\n",
    "    #  to increment or decrement to_show\n",
    "    #  to make it integral multiple of `num_col`\n",
    "    #  simply set it equal to num_row * num_col\n",
    "    to_show = num_row * num_col\n",
    "\n",
    "    # Plot the images\n",
    "    fig, axes = plt.subplots(num_row, num_col, figsize=(5, 5))\n",
    "    for i in range(to_show):\n",
    "        # If the number of rows is 1, the axes array is one-dimensional\n",
    "        if num_row == 1:\n",
    "            ax = axes[i % num_col]\n",
    "        else:\n",
    "            ax = axes[i // num_col, i % num_col]\n",
    "\n",
    "        ax.imshow(tf.keras.layers.concatenate([pairs[i][0], pairs[i][1]], axis=1), cmap=\"gray\")\n",
    "        ax.set_axis_off()\n",
    "        if test:\n",
    "            ax.set_title(\"True: {} | Pred: {:.5f}\".format(labels[i], predictions[i][0]))\n",
    "        else:\n",
    "            ax.set_title(\"Label: {}\".format(labels[i]))\n",
    "    if test:\n",
    "        plt.tight_layout(rect=(0, 0, 1.9, 1.9), w_pad=0.0)\n",
    "    else:\n",
    "        plt.tight_layout(rect=(0, 0, 1.5, 1.5))\n",
    "    plt.show()\n",
    "\n",
    "# visualize pairs\n",
    "visualize(X_train, y_train, to_show=4, num_col=2)"
   ]
  },
  {
   "cell_type": "code",
   "execution_count": null,
   "metadata": {},
   "outputs": [
    {
     "name": "stdout",
     "output_type": "stream",
     "text": [
      "Model: \"model_2\"\n",
      "__________________________________________________________________________________________________\n",
      " Layer (type)                Output Shape                 Param #   Connected to                  \n",
      "==================================================================================================\n",
      " input_3 (InputLayer)        [(None, 320, 320, 1)]        0         []                            \n",
      "                                                                                                  \n",
      " input_4 (InputLayer)        [(None, 320, 320, 1)]        0         []                            \n",
      "                                                                                                  \n",
      " model_1 (Functional)        (None, 128)                  1186918   ['input_3[0][0]',             \n",
      "                                                          4          'input_4[0][0]']             \n",
      "                                                                                                  \n",
      " dense_2 (Dense)             (None, 128)                  16512     ['model_1[0][0]']             \n",
      "                                                                                                  \n",
      " dense_3 (Dense)             (None, 128)                  16512     ['model_1[0][0]']             \n",
      "                                                                                                  \n",
      " dense_4 (Dense)             (None, 128)                  16512     ['model_1[1][0]']             \n",
      "                                                                                                  \n",
      " dense_5 (Dense)             (None, 128)                  16512     ['model_1[1][0]']             \n",
      "                                                                                                  \n",
      " dense_6 (Dense)             (None, 1)                    129       ['dense_2[0][0]']             \n",
      "                                                                                                  \n",
      " dense_7 (Dense)             (None, 1)                    129       ['dense_3[0][0]']             \n",
      "                                                                                                  \n",
      " dense_8 (Dense)             (None, 1)                    129       ['dense_4[0][0]']             \n",
      "                                                                                                  \n",
      " dense_9 (Dense)             (None, 1)                    129       ['dense_5[0][0]']             \n",
      "                                                                                                  \n",
      "==================================================================================================\n",
      "Total params: 11935748 (45.53 MB)\n",
      "Trainable params: 11935748 (45.53 MB)\n",
      "Non-trainable params: 0 (0.00 Byte)\n",
      "__________________________________________________________________________________________________\n"
     ]
    }
   ],
   "source": [
    "def create_encoder(input_shape=(320, 320, 1)):\n",
    "    inputs = Input(shape=input_shape)\n",
    "    \n",
    "    x = Conv2D(16, (3, 3), activation='relu')(inputs)\n",
    "    x = MaxPooling2D((2, 2))(x)\n",
    "    \n",
    "    x = Conv2D(32, (3, 3), activation='relu')(x)\n",
    "    x = MaxPooling2D((2, 2))(x)\n",
    "    \n",
    "    x = Conv2D(64, (3, 3), activation='relu')(x)\n",
    "    x = MaxPooling2D((2, 2))(x)\n",
    "\n",
    "    x = Flatten()(x)\n",
    "    \n",
    "    x = Dense(128, activation='relu')(x)\n",
    "    model = Model(inputs=inputs, outputs=x)\n",
    "    return model\n",
    "\n",
    "# add projection head\n",
    "def add_projection_head(input_shape, encoder, embedding_dim):\n",
    "    inputs = Input(shape=input_shape)\n",
    "    features = encoder(inputs)\n",
    "    features = Dense(128, activation='relu')(features)\n",
    "\n",
    "    #outputs_p = Dense(embedding_dim, activation='relu')(features)\n",
    "    #outputs_v = Dense(embedding_dim, activation='relu')(features)\n",
    "    #model = Model(inputs=inputs, outputs=[outputs_p, outputs_v] )  \n",
    "    model = Model(inputs=inputs, outputs=features)  \n",
    "    return model\n",
    "\n",
    "input_shape = (320, 320, 1)\n",
    "embedding_dim= 128\n",
    "batch_size = 64\n",
    "epochs = 20\n",
    "validation_split = 0.2\n",
    "learning_rate = 0.0001\n",
    "\n",
    "encoder = create_encoder(input_shape)\n",
    "encoder_with_projection_head = add_projection_head(input_shape, encoder, embedding_dim)\n",
    "\n",
    "manta = Input(shape=input_shape)\n",
    "xiris = Input(shape=input_shape)\n",
    "\n",
    "manta_encoded = encoder_with_projection_head(manta)\n",
    "xiris_encoded = encoder_with_projection_head(xiris)\n",
    "\n",
    "manta_outputs_p = Dense(embedding_dim, activation='relu')(manta_encoded)\n",
    "manta_outputs_v = Dense(embedding_dim, activation='relu')(manta_encoded)\n",
    "\n",
    "xiris_outputs_p = Dense(embedding_dim, activation='relu')(xiris_encoded)\n",
    "xiris_outputs_v = Dense(embedding_dim, activation='relu')(xiris_encoded)\n",
    "\n",
    "reg_manta_p = tf.keras.layers.Dense(1, activation=\"linear\")(manta_outputs_p) \n",
    "reg_manta_v = tf.keras.layers.Dense(1, activation=\"linear\")(manta_outputs_v) \n",
    "\n",
    "reg_xiris_p = tf.keras.layers.Dense(1, activation=\"linear\")(xiris_outputs_p) \n",
    "reg_xiris_v = tf.keras.layers.Dense(1, activation=\"linear\")(xiris_outputs_v) \n",
    "\n",
    "siamese_net = tf.keras.Model(inputs=[manta, xiris], outputs=[manta_outputs_p, manta_outputs_v, xiris_outputs_p, xiris_outputs_v, reg_manta_p, reg_manta_v, reg_xiris_p, reg_xiris_v])\n",
    "\n",
    "siamese_net.summary()"
   ]
  },
  {
   "cell_type": "code",
   "execution_count": null,
   "metadata": {},
   "outputs": [],
   "source": [
    "class SiameseModel(Model):\n",
    "    \"\"\"\n",
    "        The Siamese Network model with a custom training and testing loops.\n",
    "        Computes the contrastive loss using the two embeddings produced by the Siamese Network.\n",
    "    \"\"\"\n",
    "    def __init__(self, siamese_network):\n",
    "        super().__init__()\n",
    "        self.siamese_network = siamese_network\n",
    "        self.margin = 1.0\n",
    "        self.loss_tracker = tf.keras.metrics.Mean(name=\"loss\")\n",
    "\n",
    "\n",
    "    def call(self, inputs):\n",
    "        return self.siamese_network(inputs)\n",
    "\n",
    "    def train_step(self, data):\n",
    "        # Unpack the data\n",
    "        X, y = data  \n",
    "        #print(y)\n",
    "        \n",
    "        with tf.GradientTape() as tape:\n",
    "            y_pred = self.siamese_network(X) # Forward pass\n",
    "            #print(y_pred)\n",
    "            # compute loss\n",
    "            loss = self.contrastive_loss_PV(y_true=y, y_pred=y_pred)\n",
    "            loss_reg_manta_p = tf.keras.losses.MeanSquaredError()(y[:, 0], y_pred[4])\n",
    "            loss_reg_manta_v = tf.keras.losses.MeanSquaredError()(y[:, 1], y_pred[5])\n",
    "            loss_reg_xiris_p = tf.keras.losses.MeanSquaredError()(y[:, 2], y_pred[6])\n",
    "            loss_reg_xiris_v = tf.keras.losses.MeanSquaredError()(y[:, 3], y_pred[7])\n",
    "            loss = loss + loss_reg_manta_p + loss_reg_manta_v + loss_reg_xiris_p + loss_reg_xiris_v\n",
    "            \n",
    "        # Storing the gradients of the loss function with respect to the weights/parameters.\n",
    "        gradients = tape.gradient(loss, self.siamese_network.trainable_weights)\n",
    "\n",
    "        # Applying the gradients on the model using the specified optimizer\n",
    "        self.optimizer.apply_gradients(\n",
    "            zip(gradients, self.siamese_network.trainable_weights)\n",
    "        )\n",
    "\n",
    "        # Let's update and return the training loss metric.\n",
    "        self.loss_tracker.update_state(loss)\n",
    "        return {\"loss\": self.loss_tracker.result()}\n",
    "\n",
    "    def test_step(self, data): # model.evaluate() stores the losses and metrics in a list\n",
    "        # Unpack the data\n",
    "        X, y = data\n",
    "        \n",
    "        # Compute predictions\n",
    "        y_pred = self.siamese_network(X, training=False)\n",
    "        # The loss is computed on the test set\n",
    "        loss = self.contrastive_loss_PV(y_true=y, y_pred=y_pred)\n",
    "        loss_reg_manta_p = tf.keras.losses.MeanSquaredError()(y[:, 0], y_pred[4])\n",
    "        loss_reg_manta_v = tf.keras.losses.MeanSquaredError()(y[:, 1], y_pred[5])\n",
    "        loss_reg_xiris_p = tf.keras.losses.MeanSquaredError()(y[:, 2], y_pred[6])\n",
    "        loss_reg_xiris_v = tf.keras.losses.MeanSquaredError()(y[:, 3], y_pred[7])\n",
    "        loss = loss + loss_reg_manta_p + loss_reg_manta_v + loss_reg_xiris_p + loss_reg_xiris_v\n",
    "        \n",
    "        # Update the loss metric\n",
    "        self.loss_tracker.update_state(loss)\n",
    "    \n",
    "        return {\"loss\": self.loss_tracker.result()}\n",
    "    \n",
    "\n",
    "    def contrastive_loss_PV(self, y_true, y_pred):\n",
    "        # Extract embeddings\n",
    "        #p1, v1, p2, v2, _ = tf.split(y_pred, num_or_size_splits=[128, 128, 128, 128], axis=1)\n",
    "        # Extract embeddings\n",
    "        p1, v1, p2, v2 = y_pred[0], y_pred[1], y_pred[2], y_pred[3]\n",
    "\n",
    "        # Calculate distances\n",
    "        distance_p = tf.reduce_sum(tf.square(p1 - p2), axis=1, keepdims=True)\n",
    "        distance_v = tf.reduce_sum(tf.square(v1 - v2), axis=1, keepdims=True)\n",
    "        \n",
    "        # convert to float32\n",
    "        distance_p = tf.cast(distance_p, dtype=tf.float32)\n",
    "        distance_v = tf.cast(distance_v, dtype=tf.float32)\n",
    "        \n",
    "        # squeeze distance_p and distance_v\n",
    "        distance_p = tf.squeeze(distance_p, axis=-1)\n",
    "        distance_v = tf.squeeze(distance_v, axis=-1)\n",
    "\n",
    "        # Convert y_true to float32\n",
    "        y_true = tf.cast(y_true, dtype=tf.float32)\n",
    "        # Ensure margin has the same data type as distance_p and distance_v\n",
    "        margin = tf.cast(self.margin, dtype=tf.float32)\n",
    "\n",
    "        # Extract true labels for each task\n",
    "        y_true_p = tf.cast(tf.not_equal(y_true[:, 0], y_true[:, 2]), tf.float32)\n",
    "        y_true_v = tf.cast(tf.not_equal(y_true[:, 1], y_true[:, 3]), tf.float32)\n",
    "        \n",
    "        square_pred_p = tf.square(distance_p)\n",
    "        margin_square_p = tf.square(tf.maximum(margin - distance_p, 0))\n",
    "        loss_p = tf.reduce_mean((1 - y_true_p) * square_pred_p + (y_true_p) * margin_square_p)\n",
    "        \n",
    "        square_pred_v = tf.square(distance_v)\n",
    "        margin_square_v = tf.square(tf.maximum(margin - distance_v, 0))\n",
    "        loss_v = tf.reduce_mean((1 - y_true_v) * square_pred_v + (y_true_v) * margin_square_v)\n",
    "\n",
    "        # Combine the losses\n",
    "        combined_loss = loss_p + loss_v\n",
    "\n",
    "        return combined_loss\n",
    "\n",
    "    @property\n",
    "    def metrics(self):\n",
    "        # We need to list our metrics here so the `reset_states()` can be\n",
    "        # called automatically.\n",
    "        return [self.loss_tracker]"
   ]
  },
  {
   "cell_type": "code",
   "execution_count": null,
   "metadata": {},
   "outputs": [
    {
     "name": "stderr",
     "output_type": "stream",
     "text": [
      "2024-01-21 11:09:25.929534: I external/local_xla/xla/stream_executor/cuda/cuda_dnn.cc:454] Loaded cuDNN version 8902\n",
      "2024-01-21 11:09:26.270428: I external/local_tsl/tsl/platform/default/subprocess.cc:304] Start cannot spawn child process: No such file or directory\n",
      "2024-01-21 11:09:27.581382: I external/local_tsl/tsl/platform/default/subprocess.cc:304] Start cannot spawn child process: No such file or directory\n",
      "2024-01-21 11:09:28.507356: I external/local_xla/xla/service/service.cc:168] XLA service 0x563fbc016b20 initialized for platform CUDA (this does not guarantee that XLA will be used). Devices:\n",
      "2024-01-21 11:09:28.507467: I external/local_xla/xla/service/service.cc:176]   StreamExecutor device (0): NVIDIA RTX A6000, Compute Capability 8.6\n",
      "2024-01-21 11:09:28.540421: I tensorflow/compiler/mlir/tensorflow/utils/dump_mlir_util.cc:269] disabling MLIR crash reproducer, set env var `MLIR_CRASH_REPRODUCER_DIRECTORY` to enable.\n",
      "WARNING: All log messages before absl::InitializeLog() is called are written to STDERR\n",
      "I0000 00:00:1705835368.806493 1940885 device_compiler.h:186] Compiled cluster using XLA!  This line is logged at most once for the lifetime of the process.\n"
     ]
    },
    {
     "name": "stdout",
     "output_type": "stream",
     "text": [
      "384/384 [==============================] - 54s 112ms/step - loss: 3.2519 - val_loss: 2.1820\n"
     ]
    },
    {
     "data": {
      "text/plain": [
       "<keras.src.callbacks.History at 0x7f29884987f0>"
      ]
     },
     "execution_count": 23,
     "metadata": {},
     "output_type": "execute_result"
    }
   ],
   "source": [
    "# create siamese model\n",
    "siamese_model = SiameseModel(siamese_net)\n",
    "# compile model\n",
    "siamese_model.compile(optimizer=tf.keras.optimizers.Adam(learning_rate=learning_rate))\n",
    "# fit model\n",
    "siamese_model.fit(\n",
    "    x=[pairs[:, 0], pairs[:, 1]], \n",
    "    y=labels,\n",
    "    batch_size=batch_size, \n",
    "    epochs=epochs,\n",
    "    validation_split=validation_split,\n",
    ")"
   ]
  },
  {
   "cell_type": "code",
   "execution_count": null,
   "metadata": {},
   "outputs": [
    {
     "data": {
      "text/plain": [
       "\" # plot history\\nplt.plot(siamese_model.history.history['loss'], label='train loss')\\nplt.plot(siamese_model.history.history['val_loss'], label='val loss')\\nplt.legend()\\nplt.show() \""
      ]
     },
     "execution_count": 15,
     "metadata": {},
     "output_type": "execute_result"
    }
   ],
   "source": [
    "\"\"\" # plot history\n",
    "plt.plot(siamese_model.history.history['loss'], label='train loss')\n",
    "plt.plot(siamese_model.history.history['val_loss'], label='val loss')\n",
    "plt.legend()\n",
    "plt.show() \"\"\""
   ]
  },
  {
   "cell_type": "code",
   "execution_count": null,
   "metadata": {},
   "outputs": [
    {
     "name": "stdout",
     "output_type": "stream",
     "text": [
      "0 input_3\n",
      "1 input_4\n",
      "2 model_1\n",
      "3 dense_2\n",
      "4 dense_3\n",
      "5 dense_4\n",
      "6 dense_5\n",
      "7 dense_6\n",
      "8 dense_7\n",
      "9 dense_8\n",
      "10 dense_9\n"
     ]
    }
   ],
   "source": [
    "for i, layer in enumerate(siamese_model.siamese_network.layers):\n",
    "    print(i, layer.name)"
   ]
  },
  {
   "cell_type": "code",
   "execution_count": null,
   "metadata": {},
   "outputs": [],
   "source": [
    "encoder_with_projection_head = add_projection_head(input_shape, encoder, embedding_dim)"
   ]
  },
  {
   "cell_type": "code",
   "execution_count": null,
   "metadata": {},
   "outputs": [
    {
     "data": {
      "text/plain": [
       "<KerasTensor: shape=(None, 320, 320, 1) dtype=float32 (created by layer 'input_3')>"
      ]
     },
     "execution_count": 37,
     "metadata": {},
     "output_type": "execute_result"
    }
   ],
   "source": [
    "siamese_model.siamese_network.inputs[0]"
   ]
  },
  {
   "cell_type": "code",
   "execution_count": null,
   "metadata": {},
   "outputs": [
    {
     "name": "stdout",
     "output_type": "stream",
     "text": [
      "Model: \"model_7\"\n",
      "__________________________________________________________________________________________________\n",
      " Layer (type)                Output Shape                 Param #   Connected to                  \n",
      "==================================================================================================\n",
      " input_3 (InputLayer)        [(None, 320, 320, 1)]        0         []                            \n",
      "                                                                                                  \n",
      " model_1 (Functional)        (None, 128)                  1186918   ['input_3[0][0]']             \n"
     ]
    },
    {
     "name": "stdout",
     "output_type": "stream",
     "text": [
      "                                                          4                                       \n",
      "                                                                                                  \n",
      " dense_2 (Dense)             (None, 128)                  16512     ['model_1[0][0]']             \n",
      "                                                                                                  \n",
      " dense_3 (Dense)             (None, 128)                  16512     ['model_1[0][0]']             \n",
      "                                                                                                  \n",
      "==================================================================================================\n",
      "Total params: 11902208 (45.40 MB)\n",
      "Trainable params: 0 (0.00 Byte)\n",
      "Non-trainable params: 11902208 (45.40 MB)\n",
      "__________________________________________________________________________________________________\n",
      "input_3 weights set\n",
      "model_1 weights set\n",
      "dense_2 weights set\n",
      "dense_3 weights set\n",
      "Model: \"model_8\"\n",
      "__________________________________________________________________________________________________\n",
      " Layer (type)                Output Shape                 Param #   Connected to                  \n",
      "==================================================================================================\n",
      " input_9 (InputLayer)        [(None, 320, 320, 1)]        0         []                            \n",
      "                                                                                                  \n",
      " model_7 (Functional)        [(None, 128),                1190220   ['input_9[0][0]']             \n",
      "                              (None, 128)]                8                                       \n",
      "                                                                                                  \n",
      " concatenate_1 (Concatenate  (None, 256)                  0         ['model_7[0][0]',             \n",
      " )                                                                   'model_7[0][1]']             \n",
      "                                                                                                  \n",
      " lenght (Dense)              (None, 1)                    257       ['concatenate_1[0][0]']       \n",
      "                                                                                                  \n",
      " height (Dense)              (None, 1)                    257       ['concatenate_1[0][0]']       \n",
      "                                                                                                  \n",
      "==================================================================================================\n",
      "Total params: 11902722 (45.41 MB)\n",
      "Trainable params: 514 (2.01 KB)\n",
      "Non-trainable params: 11902208 (45.40 MB)\n",
      "__________________________________________________________________________________________________\n"
     ]
    }
   ],
   "source": [
    "inputs = Input(shape=(320, 320, 1))\n",
    "\n",
    "new_model = tf.keras.Model(inputs=siamese_model.siamese_network.inputs[0], outputs=[siamese_model.siamese_network.layers[3].output, siamese_model.siamese_network.layers[4].output])\n",
    "new_model.summary()\n",
    "\n",
    "# set weights of new model \n",
    "for layer in new_model.layers:\n",
    "    layer.set_weights(siamese_model.siamese_network.get_layer(layer.name).get_weights())\n",
    "    print(layer.name, \"weights set\")\n",
    "    layer.trainable = False\n",
    "    \n",
    "\n",
    "x = new_model(inputs)\n",
    "# merge the last 2 layers in a single layer\n",
    "x = layers.concatenate(x)\n",
    "# add a two regression heads\n",
    "#x = Dense(128, activation='relu')(x)\n",
    "output_l = Dense(1, activation=\"linear\", name=\"lenght\")(x)\n",
    "output_h = Dense(1, activation=\"linear\", name=\"height\")(x)\n",
    "\n",
    "model_3 = Model(inputs=inputs, outputs=[output_l, output_h])\n",
    "model_3.summary()           "
   ]
  },
  {
   "cell_type": "code",
   "execution_count": null,
   "metadata": {},
   "outputs": [
    {
     "data": {
      "text/plain": [
       "(15338, 320, 320)"
      ]
     },
     "execution_count": 28,
     "metadata": {},
     "output_type": "execute_result"
    }
   ],
   "source": [
    "X_train = np.concatenate((train_manta, train_xiris), axis=0)\n",
    "\n",
    "X_train.shape\n",
    "del train_manta, train_xiris, train_y, train_encoded_y, pairs, labels, features\n",
    "\n",
    "\n",
    "y_train = np.concatenate((train_feats, train_feats), axis=0)\n",
    "y_train.shape\n",
    "\n",
    "del train_feats"
   ]
  },
  {
   "cell_type": "code",
   "execution_count": null,
   "metadata": {},
   "outputs": [
    {
     "name": "stdout",
     "output_type": "stream",
     "text": [
      "192/192 [==============================] - 10s 45ms/step - loss: 0.2642 - lenght_loss: 0.2488 - height_loss: 0.0154 - val_loss: 0.0457 - val_lenght_loss: 0.0317 - val_height_loss: 0.0140\n"
     ]
    }
   ],
   "source": [
    "# fit model\n",
    "learning_rate = 0.0001\n",
    "model_3.compile(optimizer=tf.keras.optimizers.Adam(learning_rate), loss='mse')\n",
    "\n",
    "batch_size = 64\n",
    "epochs = 10\n",
    "\n",
    "history = model_3.fit(x=X_train,\n",
    "            y=[y_train[:, 0], y_train[:, 1]],\n",
    "            #y=y_train[:, 2:], # L, H\n",
    "            batch_size=batch_size, epochs=epochs, validation_split=0.2)\n"
   ]
  },
  {
   "cell_type": "code",
   "execution_count": null,
   "metadata": {},
   "outputs": [],
   "source": [
    "del X_train, y_train"
   ]
  },
  {
   "cell_type": "code",
   "execution_count": null,
   "metadata": {},
   "outputs": [],
   "source": [
    "X_test = np.concatenate((test_manta, test_xiris), axis=0)\n",
    "y_test = np.concatenate((test_feats, test_feats), axis=0)\n",
    "\n",
    "del  test_xiris, test_y#, test_feats #test_manta,"
   ]
  },
  {
   "cell_type": "code",
   "execution_count": null,
   "metadata": {},
   "outputs": [
    {
     "name": "stdout",
     "output_type": "stream",
     "text": [
      "[0.12275025248527527, 0.11200489103794098, 0.010745353996753693]\n"
     ]
    }
   ],
   "source": [
    "score = model_3.evaluate(X_test, [y_test[:, 0], y_test[:, 1]], verbose=0)\n",
    "print(score)"
   ]
  },
  {
   "cell_type": "code",
   "execution_count": null,
   "metadata": {},
   "outputs": [
    {
     "name": "stdout",
     "output_type": "stream",
     "text": [
      "120/120 [==============================] - 1s 11ms/step\n",
      "r2 score:  -1.0602583563639878 0.08073210738722991\n"
     ]
    },
    {
     "data": {
      "image/png": "[encoded data removed]",
      "text/plain": [
       "<Figure size 640x480 with 1 Axes>"
      ]
     },
     "metadata": {},
     "output_type": "display_data"
    }
   ],
   "source": [
    "# eval regression model\n",
    "from sklearn.metrics import r2_score\n",
    "\n",
    "y_pred_l, y_pred_h = model_3.predict(X_test)\n",
    "r2_l = r2_score(y_test[:,0], y_pred_l)\n",
    "r2_h = r2_score(y_test[:,1], y_pred_h)\n",
    "print(\"r2 score: \", r2_l, r2_h)\n",
    "\n",
    "# plot loss and metrics: mse and mae\n",
    "import matplotlib.pyplot as plt\n",
    "\n",
    "# plot loss\n",
    "plt.plot(history.history['loss'])\n",
    "plt.plot(history.history['val_loss'])\n",
    "plt.title('Training and validation loss')\n",
    "plt.ylabel('loss')\n",
    "\n",
    "plt.xlabel('epoch')\n",
    "plt.legend(['train', 'validation'], loc='upper left')\n",
    "plt.show()\n"
   ]
  },
  {
   "cell_type": "code",
   "execution_count": null,
   "metadata": {},
   "outputs": [],
   "source": [
    "X_test_new = test_manta\n",
    "del test_manta\n",
    "\n",
    "y_test_new = test_feats \n",
    "del test_feats"
   ]
  },
  {
   "cell_type": "code",
   "execution_count": null,
   "metadata": {},
   "outputs": [],
   "source": [
    "y_pred_l_new, y_pred_h_new = model_3.predict(X_test_new)\n",
    "r2_l_new = r2_score(y_test_new[:,2], y_pred_l_new)\n",
    "r2_h_new = r2_score(y_test_new[:,3], y_pred_h_new)\n"
   ]
  },
  {
   "cell_type": "code",
   "execution_count": null,
   "metadata": {},
   "outputs": [],
   "source": [
    "import matplotlib.pyplot as plt\n",
    "\n",
    "# Increase overall text size\n",
    "plt.rcParams.update({'font.size': 12})\n",
    "\n",
    "# Create subplots\n",
    "fig, axs = plt.subplots(1, 2, figsize=(12, 5))\n",
    "\n",
    "# Plotting the first scatter plot (length prediction)\n",
    "axs[0].scatter(y_test[:, 2], y_pred_l, alpha=0.7, edgecolors='w', label='Both Channels')\n",
    "axs[0].scatter(y_test_new[:, 2], y_pred_l_new, alpha=0.7, edgecolors='w', label='Only Channel 1')\n",
    "axs[0].plot([min(y_test[:, 2]), max(y_test[:, 2])], [min(y_test[:, 2]), max(y_test[:, 2])], '--', color='red', linewidth=2)\n",
    "axs[0].set_title(\"Length Prediction\")\n",
    "axs[0].set_xlabel(\"True Length\")\n",
    "axs[0].set_ylabel(\"Predicted Length\")\n",
    "axs[0].legend()\n",
    "axs[0].grid(True)\n",
    "\n",
    "# Plotting the second scatter plot (height prediction)\n",
    "axs[1].scatter(y_test[:, 3], y_pred_h, alpha=0.7, edgecolors='w', label='Both Channels')\n",
    "axs[1].scatter(y_test_new[:, 3], y_pred_h_new, alpha=0.7, edgecolors='w', label='Only Channel 1')\n",
    "axs[1].plot([min(y_test[:, 3]), max(y_test[:, 3])], [min(y_test[:, 3]), max(y_test[:, 3])], '--', color='red', linewidth=2)\n",
    "axs[1].set_title(\"Height Prediction\")\n",
    "axs[1].set_xlabel(\"True Height\")\n",
    "axs[1].set_ylabel(\"Predicted Height\")\n",
    "axs[1].legend()\n",
    "axs[1].grid(True)\n",
    "\n",
    "# Adjust layout for better visualization\n",
    "plt.tight_layout()\n",
    "\n",
    "# Show the plot\n",
    "plt.show()"
   ]
  }
 ],
 "metadata": {
  "kernelspec": {
   "display_name": "laser",
   "language": "python",
   "name": "python3"
  },
  "language_info": {
   "codemirror_mode": {
    "name": "ipython",
    "version": 3
   },
   "file_extension": ".py",
   "mimetype": "text/x-python",
   "name": "python",
   "nbconvert_exporter": "python",
   "pygments_lexer": "ipython3",
   "version": "3.10.12"
  }
 },
 "nbformat": 4,
 "nbformat_minor": 2
}
