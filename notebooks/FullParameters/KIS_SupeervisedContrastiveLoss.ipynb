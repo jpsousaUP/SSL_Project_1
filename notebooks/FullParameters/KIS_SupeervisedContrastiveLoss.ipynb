{
 "cells": [
  {
   "cell_type": "code",
   "execution_count": 2,
   "metadata": {},
   "outputs": [
    {
     "name": "stderr",
     "output_type": "stream",
     "text": [
      "2024-01-11 11:19:13.001396: I tensorflow/core/util/port.cc:113] oneDNN custom operations are on. You may see slightly different numerical results due to floating-point round-off errors from different computation orders. To turn them off, set the environment variable `TF_ENABLE_ONEDNN_OPTS=0`.\n",
      "2024-01-11 11:19:13.075435: E external/local_xla/xla/stream_executor/cuda/cuda_dnn.cc:9261] Unable to register cuDNN factory: Attempting to register factory for plugin cuDNN when one has already been registered\n",
      "2024-01-11 11:19:13.075482: E external/local_xla/xla/stream_executor/cuda/cuda_fft.cc:607] Unable to register cuFFT factory: Attempting to register factory for plugin cuFFT when one has already been registered\n",
      "2024-01-11 11:19:13.077841: E external/local_xla/xla/stream_executor/cuda/cuda_blas.cc:1515] Unable to register cuBLAS factory: Attempting to register factory for plugin cuBLAS when one has already been registered\n",
      "2024-01-11 11:19:13.092546: I tensorflow/core/platform/cpu_feature_guard.cc:182] This TensorFlow binary is optimized to use available CPU instructions in performance-critical operations.\n",
      "To enable the following instructions: AVX2 AVX512F AVX512_VNNI FMA, in other operations, rebuild TensorFlow with the appropriate compiler flags.\n",
      "2024-01-11 11:19:13.876234: W tensorflow/compiler/tf2tensorrt/utils/py_utils.cc:38] TF-TRT Warning: Could not find TensorRT\n"
     ]
    },
    {
     "name": "stdout",
     "output_type": "stream",
     "text": [
      "WARNING:tensorflow:From /tmp/ipykernel_666499/3769053210.py:7: is_gpu_available (from tensorflow.python.framework.test_util) is deprecated and will be removed in a future version.\n",
      "Instructions for updating:\n",
      "Use `tf.config.list_physical_devices('GPU')` instead.\n",
      "True\n",
      "Setting memory growth to True for GPU:  PhysicalDevice(name='/physical_device:GPU:0', device_type='GPU')\n"
     ]
    },
    {
     "name": "stderr",
     "output_type": "stream",
     "text": [
      "2024-01-11 11:19:15.338169: I external/local_xla/xla/stream_executor/cuda/cuda_executor.cc:901] successful NUMA node read from SysFS had negative value (-1), but there must be at least one NUMA node, so returning NUMA node zero. See more at https://github.com/torvalds/linux/blob/v6.0/Documentation/ABI/testing/sysfs-bus-pci#L344-L355\n",
      "2024-01-11 11:19:15.389944: I external/local_xla/xla/stream_executor/cuda/cuda_executor.cc:901] successful NUMA node read from SysFS had negative value (-1), but there must be at least one NUMA node, so returning NUMA node zero. See more at https://github.com/torvalds/linux/blob/v6.0/Documentation/ABI/testing/sysfs-bus-pci#L344-L355\n",
      "2024-01-11 11:19:15.390115: I external/local_xla/xla/stream_executor/cuda/cuda_executor.cc:901] successful NUMA node read from SysFS had negative value (-1), but there must be at least one NUMA node, so returning NUMA node zero. See more at https://github.com/torvalds/linux/blob/v6.0/Documentation/ABI/testing/sysfs-bus-pci#L344-L355\n",
      "2024-01-11 11:19:15.463989: I external/local_xla/xla/stream_executor/cuda/cuda_executor.cc:901] successful NUMA node read from SysFS had negative value (-1), but there must be at least one NUMA node, so returning NUMA node zero. See more at https://github.com/torvalds/linux/blob/v6.0/Documentation/ABI/testing/sysfs-bus-pci#L344-L355\n",
      "2024-01-11 11:19:15.464136: I external/local_xla/xla/stream_executor/cuda/cuda_executor.cc:901] successful NUMA node read from SysFS had negative value (-1), but there must be at least one NUMA node, so returning NUMA node zero. See more at https://github.com/torvalds/linux/blob/v6.0/Documentation/ABI/testing/sysfs-bus-pci#L344-L355\n",
      "2024-01-11 11:19:15.464239: I external/local_xla/xla/stream_executor/cuda/cuda_executor.cc:901] successful NUMA node read from SysFS had negative value (-1), but there must be at least one NUMA node, so returning NUMA node zero. See more at https://github.com/torvalds/linux/blob/v6.0/Documentation/ABI/testing/sysfs-bus-pci#L344-L355\n",
      "2024-01-11 11:19:15.464315: I tensorflow/core/common_runtime/gpu/gpu_device.cc:1929] Created device /device:GPU:0 with 46872 MB memory:  -> device: 0, name: NVIDIA RTX A6000, pci bus id: 0000:07:00.0, compute capability: 8.6\n",
      "2024-01-11 11:19:15.465982: I external/local_xla/xla/stream_executor/cuda/cuda_executor.cc:901] successful NUMA node read from SysFS had negative value (-1), but there must be at least one NUMA node, so returning NUMA node zero. See more at https://github.com/torvalds/linux/blob/v6.0/Documentation/ABI/testing/sysfs-bus-pci#L344-L355\n",
      "2024-01-11 11:19:15.466120: I external/local_xla/xla/stream_executor/cuda/cuda_executor.cc:901] successful NUMA node read from SysFS had negative value (-1), but there must be at least one NUMA node, so returning NUMA node zero. See more at https://github.com/torvalds/linux/blob/v6.0/Documentation/ABI/testing/sysfs-bus-pci#L344-L355\n",
      "2024-01-11 11:19:15.466204: I external/local_xla/xla/stream_executor/cuda/cuda_executor.cc:901] successful NUMA node read from SysFS had negative value (-1), but there must be at least one NUMA node, so returning NUMA node zero. See more at https://github.com/torvalds/linux/blob/v6.0/Documentation/ABI/testing/sysfs-bus-pci#L344-L355\n"
     ]
    }
   ],
   "source": [
    "import tensorflow as tf\n",
    "from tensorflow.keras import layers, models, Input, Model\n",
    "from tensorflow.keras.layers import Dense, Dropout, Flatten, Conv2D, MaxPooling2D, BatchNormalization, Activation\n",
    "import numpy as np\n",
    "\n",
    "# verify if GPU is available\n",
    "print(tf.test.is_gpu_available())\n",
    "\n",
    "# set memory growth to true\n",
    "physical_devices = tf.config.experimental.list_physical_devices('GPU')\n",
    "print(\"Setting memory growth to True for GPU: \", physical_devices[0])\n",
    "tf.config.experimental.set_memory_growth(physical_devices[0], True)\n",
    "\n",
    "# dont display much info of tensorflow\n",
    "tf.get_logger().setLevel('ERROR')\n"
   ]
  },
  {
   "cell_type": "code",
   "execution_count": 3,
   "metadata": {},
   "outputs": [
    {
     "name": "stdout",
     "output_type": "stream",
     "text": [
      "manta shape:  (9587, 320, 320)\n",
      "xiris shape:  (9587, 320, 320)\n",
      "y shape:  (9587, 2)\n",
      "y shape:  (9587, 2)\n",
      "max of each column:  [2750   15]\n"
     ]
    }
   ],
   "source": [
    "\n",
    "# Load data\n",
    "manta_path = \"/home/vm/SSL_Project_1/data/processed/bag_2023-07-04_15-23-48/_manta.npy\"\n",
    "xiris_path = \"/home/vm/SSL_Project_1/data/processed/bag_2023-07-04_15-23-48/_xiris.npy\"\n",
    "y_path = \"/home/vm/SSL_Project_1/data/processed/bag_2023-07-04_15-23-48/_y.npy\"\n",
    "feats_path = \"/home/vm/SSL_Project_1/data/processed/bag_2023-07-04_15-23-48/_feats.npy\"\n",
    "\n",
    "# load numpy arrays and display shapes\n",
    "manta = np.load(manta_path)\n",
    "xiris = np.load(xiris_path)\n",
    "y = np.load(y_path)\n",
    "print(\"manta shape: \", manta.shape)\n",
    "print(\"xiris shape: \", xiris.shape)\n",
    "print(\"y shape: \", y.shape) # laser power and velocity\n",
    "\n",
    "\"\"\" #feats = np.load(feats_path)\n",
    "#print(\"feats shape: \", feats.shape)\n",
    "y = y[:, 0] # only use laser power\n",
    "print(\"y shape: \", y.shape)\n",
    "\n",
    "# normalize y\n",
    "y = y / np.max(y) \"\"\"\n",
    "\n",
    "# use laser power and velocity as labels\n",
    "y = y[:, :2]\n",
    "print(\"y shape: \", y.shape)\n",
    "\n",
    "# print max of each column\n",
    "print(\"max of each column: \", np.max(y, axis=0))\n",
    "# normalize y by dividing laser power by max of each column\n",
    "y = y / np.max(y, axis=0)"
   ]
  },
  {
   "cell_type": "code",
   "execution_count": 4,
   "metadata": {},
   "outputs": [
    {
     "data": {
      "text/plain": [
       "(9587, 2)"
      ]
     },
     "execution_count": 4,
     "metadata": {},
     "output_type": "execute_result"
    }
   ],
   "source": [
    "\n",
    "# create a function to encode y\n",
    "def encode_one_column(y):\n",
    "    # create a new array of zeros with the same shape as y\n",
    "    encoded_y = np.zeros(y.shape)\n",
    "    # get the unique values in y\n",
    "    unique_values = np.unique(y)\n",
    "    # loop through the unique values\n",
    "    for i, value in enumerate(unique_values):\n",
    "        # find the indices where y equals the unique value\n",
    "        indices = np.where(y == value)\n",
    "        # set the indices in encoded_y to i\n",
    "        encoded_y[indices] = i\n",
    "    return encoded_y\n",
    "\n",
    "# create new array to store encoded y\n",
    "y_encoded = np.zeros(y.shape)\n",
    "# loop through each column in y and encode it\n",
    "for i in range(y.shape[1]):\n",
    "    y_encoded[:, i] = encode_one_column(y[:, i])\n",
    "    \n",
    "# convert to int\n",
    "y_encoded = y_encoded.astype(int)\n",
    "y_encoded.shape"
   ]
  },
  {
   "cell_type": "code",
   "execution_count": 5,
   "metadata": {},
   "outputs": [
    {
     "name": "stdout",
     "output_type": "stream",
     "text": [
      "x shape:  (19174, 320, 320)\n",
      "y shape:  (19174, 2)\n",
      "x_train shape:  (15339, 320, 320)\n",
      "y_train shape:  (15339, 2)\n",
      "x_test shape:  (3835, 320, 320)\n",
      "y_test shape:  (3835, 2)\n"
     ]
    }
   ],
   "source": [
    "# concatenate manta and xiris images with label y_encoded as rows\n",
    "# concatenate the two inputs (manta and xiris) along rows\n",
    "x = np.concatenate((manta, xiris), axis=0)\n",
    "y = np.concatenate((y_encoded, y_encoded), axis=0)\n",
    "print(\"x shape: \", x.shape)\n",
    "print(\"y shape: \", y.shape)\n",
    "\n",
    "# split data into train and test (manta as input and y as output) with shuffle as true\n",
    "from sklearn.model_selection import train_test_split\n",
    "\n",
    "X_train, X_test, y_train, y_test = train_test_split(x, y, test_size=0.2, shuffle=True, random_state=42)\n",
    "print(\"x_train shape: \", X_train.shape)\n",
    "print(\"y_train shape: \", y_train.shape)\n",
    "print(\"x_test shape: \", X_test.shape)\n",
    "print(\"y_test shape: \", y_test.shape)\n",
    " "
   ]
  },
  {
   "cell_type": "code",
   "execution_count": 6,
   "metadata": {},
   "outputs": [],
   "source": [
    "del manta, xiris, y, y_encoded, x"
   ]
  },
  {
   "cell_type": "code",
   "execution_count": 12,
   "metadata": {},
   "outputs": [
    {
     "data": {
      "text/plain": [
       "array([[3, 0],\n",
       "       [3, 0],\n",
       "       [0, 2],\n",
       "       ...,\n",
       "       [2, 0],\n",
       "       [0, 0],\n",
       "       [2, 1]])"
      ]
     },
     "execution_count": 12,
     "metadata": {},
     "output_type": "execute_result"
    }
   ],
   "source": [
    "y_train"
   ]
  },
  {
   "cell_type": "code",
   "execution_count": 7,
   "metadata": {},
   "outputs": [
    {
     "name": "stderr",
     "output_type": "stream",
     "text": [
      "/home/vm/laser/lib/python3.10/site-packages/tensorflow_addons/utils/tfa_eol_msg.py:23: UserWarning: \n",
      "\n",
      "TensorFlow Addons (TFA) has ended development and introduction of new features.\n",
      "TFA has entered a minimal maintenance and release mode until a planned end of life in May 2024.\n",
      "Please modify downstream libraries to take dependencies from other repositories in our TensorFlow community (e.g. Keras, Keras-CV, and Keras-NLP). \n",
      "\n",
      "For more information see: https://github.com/tensorflow/addons/issues/2807 \n",
      "\n",
      "  warnings.warn(\n"
     ]
    }
   ],
   "source": []
  },
  {
   "cell_type": "code",
   "execution_count": 18,
   "metadata": {},
   "outputs": [
    {
     "name": "stdout",
     "output_type": "stream",
     "text": [
      "Model: \"model_14\"\n",
      "__________________________________________________________________________________________________\n",
      " Layer (type)                Output Shape                 Param #   Connected to                  \n",
      "==================================================================================================\n",
      " input_16 (InputLayer)       [(None, 320, 320, 1)]        0         []                            \n",
      "                                                                                                  \n",
      " model_13 (Functional)       (None, 194688)               4800      ['input_16[0][0]']            \n",
      "                                                                                                  \n",
      " contrastive_output_0 (Dens  (None, 128)                  2492019   ['model_13[0][0]']            \n",
      " e)                                                       2                                       \n",
      "                                                                                                  \n",
      " contrastive_output_1 (Dens  (None, 128)                  2492019   ['model_13[0][0]']            \n",
      " e)                                                       2                                       \n",
      "                                                                                                  \n",
      "==================================================================================================\n",
      "Total params: 49845184 (190.14 MB)\n",
      "Trainable params: 49845184 (190.14 MB)\n",
      "Non-trainable params: 0 (0.00 Byte)\n",
      "__________________________________________________________________________________________________\n",
      "Epoch 1/20\n"
     ]
    },
    {
     "name": "stderr",
     "output_type": "stream",
     "text": [
      "2024-01-11 11:31:43.173287: I external/local_xla/xla/service/service.cc:168] XLA service 0x7f6310238210 initialized for platform CUDA (this does not guarantee that XLA will be used). Devices:\n",
      "2024-01-11 11:31:43.173352: I external/local_xla/xla/service/service.cc:176]   StreamExecutor device (0): NVIDIA RTX A6000, Compute Capability 8.6\n",
      "2024-01-11 11:31:43.185311: I tensorflow/compiler/mlir/tensorflow/utils/dump_mlir_util.cc:269] disabling MLIR crash reproducer, set env var `MLIR_CRASH_REPRODUCER_DIRECTORY` to enable.\n",
      "WARNING: All log messages before absl::InitializeLog() is called are written to STDERR\n",
      "I0000 00:00:1704972703.379760  666698 device_compiler.h:186] Compiled cluster using XLA!  This line is logged at most once for the lifetime of the process.\n"
     ]
    },
    {
     "name": "stdout",
     "output_type": "stream",
     "text": [
      "192/192 [==============================] - 17s 66ms/step - loss: 7.6058 - contrastive_output_0_loss: 3.5436 - contrastive_output_1_loss: 4.0622 - val_loss: 6.8876 - val_contrastive_output_0_loss: 3.2066 - val_contrastive_output_1_loss: 3.6810\n",
      "Epoch 2/20\n",
      "192/192 [==============================] - 8s 43ms/step - loss: 6.7276 - contrastive_output_0_loss: 3.1119 - contrastive_output_1_loss: 3.6156 - val_loss: 6.5272 - val_contrastive_output_0_loss: 2.9984 - val_contrastive_output_1_loss: 3.5288\n",
      "Epoch 3/20\n",
      "192/192 [==============================] - 8s 43ms/step - loss: 6.4356 - contrastive_output_0_loss: 2.9686 - contrastive_output_1_loss: 3.4671 - val_loss: 6.3710 - val_contrastive_output_0_loss: 2.9228 - val_contrastive_output_1_loss: 3.4482\n",
      "Epoch 4/20\n",
      "192/192 [==============================] - 9s 45ms/step - loss: 6.3209 - contrastive_output_0_loss: 2.9227 - contrastive_output_1_loss: 3.3982 - val_loss: 6.2854 - val_contrastive_output_0_loss: 2.9105 - val_contrastive_output_1_loss: 3.3749\n",
      "Epoch 5/20\n",
      "192/192 [==============================] - 9s 45ms/step - loss: 6.2521 - contrastive_output_0_loss: 2.8913 - contrastive_output_1_loss: 3.3608 - val_loss: 6.2268 - val_contrastive_output_0_loss: 2.8887 - val_contrastive_output_1_loss: 3.3380\n",
      "Epoch 6/20\n",
      "192/192 [==============================] - 8s 43ms/step - loss: 6.2073 - contrastive_output_0_loss: 2.8769 - contrastive_output_1_loss: 3.3305 - val_loss: 6.2396 - val_contrastive_output_0_loss: 2.8884 - val_contrastive_output_1_loss: 3.3512\n",
      "Epoch 7/20\n",
      "192/192 [==============================] - 9s 45ms/step - loss: 6.1886 - contrastive_output_0_loss: 2.8684 - contrastive_output_1_loss: 3.3202 - val_loss: 6.1834 - val_contrastive_output_0_loss: 2.8673 - val_contrastive_output_1_loss: 3.3161\n",
      "Epoch 8/20\n",
      "192/192 [==============================] - 8s 43ms/step - loss: 6.1656 - contrastive_output_0_loss: 2.8664 - contrastive_output_1_loss: 3.2993 - val_loss: 6.1830 - val_contrastive_output_0_loss: 2.8651 - val_contrastive_output_1_loss: 3.3178\n",
      "Epoch 9/20\n",
      "192/192 [==============================] - 8s 43ms/step - loss: 6.1558 - contrastive_output_0_loss: 2.8616 - contrastive_output_1_loss: 3.2943 - val_loss: 6.1517 - val_contrastive_output_0_loss: 2.8493 - val_contrastive_output_1_loss: 3.3023\n",
      "Epoch 10/20\n",
      "192/192 [==============================] - 9s 45ms/step - loss: 6.1387 - contrastive_output_0_loss: 2.8556 - contrastive_output_1_loss: 3.2830 - val_loss: 6.1518 - val_contrastive_output_0_loss: 2.8622 - val_contrastive_output_1_loss: 3.2897\n",
      "Epoch 11/20\n",
      "192/192 [==============================] - 8s 43ms/step - loss: 6.1252 - contrastive_output_0_loss: 2.8530 - contrastive_output_1_loss: 3.2721 - val_loss: 6.1332 - val_contrastive_output_0_loss: 2.8508 - val_contrastive_output_1_loss: 3.2824\n",
      "Epoch 12/20\n",
      "192/192 [==============================] - 8s 43ms/step - loss: 6.1179 - contrastive_output_0_loss: 2.8468 - contrastive_output_1_loss: 3.2711 - val_loss: 6.1093 - val_contrastive_output_0_loss: 2.8390 - val_contrastive_output_1_loss: 3.2704\n",
      "Epoch 13/20\n",
      "192/192 [==============================] - 8s 43ms/step - loss: 6.1078 - contrastive_output_0_loss: 2.8430 - contrastive_output_1_loss: 3.2648 - val_loss: 6.1269 - val_contrastive_output_0_loss: 2.8428 - val_contrastive_output_1_loss: 3.2841\n",
      "Epoch 14/20\n",
      "192/192 [==============================] - 8s 43ms/step - loss: 6.1005 - contrastive_output_0_loss: 2.8410 - contrastive_output_1_loss: 3.2595 - val_loss: 6.1069 - val_contrastive_output_0_loss: 2.8410 - val_contrastive_output_1_loss: 3.2659\n",
      "Epoch 15/20\n",
      "192/192 [==============================] - 8s 43ms/step - loss: 6.0911 - contrastive_output_0_loss: 2.8379 - contrastive_output_1_loss: 3.2532 - val_loss: 6.1063 - val_contrastive_output_0_loss: 2.8369 - val_contrastive_output_1_loss: 3.2695\n",
      "Epoch 16/20\n",
      "192/192 [==============================] - 8s 43ms/step - loss: 6.0846 - contrastive_output_0_loss: 2.8369 - contrastive_output_1_loss: 3.2477 - val_loss: 6.1166 - val_contrastive_output_0_loss: 2.8464 - val_contrastive_output_1_loss: 3.2702\n",
      "Epoch 17/20\n",
      "192/192 [==============================] - 9s 45ms/step - loss: 6.0815 - contrastive_output_0_loss: 2.8373 - contrastive_output_1_loss: 3.2442 - val_loss: 6.1098 - val_contrastive_output_0_loss: 2.8357 - val_contrastive_output_1_loss: 3.2741\n",
      "Epoch 18/20\n",
      "192/192 [==============================] - 9s 46ms/step - loss: 6.0744 - contrastive_output_0_loss: 2.8336 - contrastive_output_1_loss: 3.2408 - val_loss: 6.1219 - val_contrastive_output_0_loss: 2.8501 - val_contrastive_output_1_loss: 3.2718\n",
      "Epoch 19/20\n",
      "192/192 [==============================] - 9s 47ms/step - loss: 6.0672 - contrastive_output_0_loss: 2.8286 - contrastive_output_1_loss: 3.2387 - val_loss: 6.1201 - val_contrastive_output_0_loss: 2.8448 - val_contrastive_output_1_loss: 3.2753\n",
      "Epoch 20/20\n",
      "192/192 [==============================] - 9s 47ms/step - loss: 6.0681 - contrastive_output_0_loss: 2.8303 - contrastive_output_1_loss: 3.2378 - val_loss: 6.0844 - val_contrastive_output_0_loss: 2.8258 - val_contrastive_output_1_loss: 3.2587\n"
     ]
    }
   ],
   "source": [
    "import tensorflow_addons as tfa\n",
    "from tensorflow.keras.layers import Input, Conv2D, MaxPooling2D, Flatten, Dense\n",
    "from tensorflow.keras.models import Model\n",
    "\n",
    "class SupervisedContrastiveLoss(tf.keras.losses.Loss):\n",
    "    def __init__(self, temperature=1, name=None):\n",
    "        super().__init__(name=name)\n",
    "        self.temperature = temperature\n",
    "\n",
    "    def __call__(self, labels, feature_vectors, sample_weight=None):\n",
    "        # Normalize feature vectors\n",
    "        feature_vectors_normalized = tf.math.l2_normalize(feature_vectors, axis=1)\n",
    "        # Compute logits\n",
    "        logits = tf.divide(\n",
    "            tf.matmul(\n",
    "                feature_vectors_normalized, tf.transpose(feature_vectors_normalized)\n",
    "            ),\n",
    "            self.temperature,\n",
    "        )\n",
    "        return tfa.losses.npairs_loss(tf.squeeze(labels), logits)\n",
    "\n",
    "def create_encoder(input_shape=(320, 320, 1)):\n",
    "    inputs = Input(shape=input_shape)\n",
    "    \n",
    "    x = Conv2D(16, (3, 3), activation='relu')(inputs)\n",
    "    x = MaxPooling2D((2, 2))(x)\n",
    "    \n",
    "    x = Conv2D(32, (3, 3), activation='relu')(x)\n",
    "    x = MaxPooling2D((2, 2))(x)\n",
    "\n",
    "    x = Flatten()(x)\n",
    "    model = Model(inputs=inputs, outputs=x)\n",
    "    return model\n",
    "\n",
    "# Add contrastive and regression head\n",
    "def add_contrastive_head(input_shape, encoder, embedding_dim, num_tasks):\n",
    "    inputs = Input(shape=input_shape)\n",
    "    features = encoder(inputs)\n",
    "\n",
    "    # Add dense layer for each task\n",
    "    contrastive_outputs = [Dense(embedding_dim, activation='linear', name=f\"contrastive_output_{i}\")(features) for i in range(num_tasks)]\n",
    "\n",
    "    model = Model(inputs=inputs, outputs=contrastive_outputs)\n",
    "    return model\n",
    "\n",
    "input_shape = (320, 320, 1)\n",
    "embedding_dim = 128\n",
    "batch_size = 64\n",
    "epochs = 20\n",
    "validation_split = 0.2\n",
    "learning_rate = 0.001\n",
    "num_tasks = 2   # P, V\n",
    "temperature = 0.05\n",
    "\n",
    "# Build model\n",
    "encoder = create_encoder()\n",
    "encoder_with_contrastive_head = add_contrastive_head(input_shape, encoder, embedding_dim, num_tasks)\n",
    "encoder_with_contrastive_head.summary()\n",
    "\n",
    "# Compile model\n",
    "encoder_with_contrastive_head.compile(optimizer=tf.keras.optimizers.Adam(learning_rate=learning_rate),\n",
    "                                      loss=[SupervisedContrastiveLoss(temperature=temperature) for _ in range(num_tasks)],\n",
    ")\n",
    "# Fit model\n",
    "history = encoder_with_contrastive_head.fit(\n",
    "    x=X_train, \n",
    "    y=[y_train[:, 0], y_train[:, 1]],\n",
    "    batch_size=batch_size, \n",
    "    epochs=epochs, \n",
    "    validation_split=validation_split,\n",
    ")\n"
   ]
  },
  {
   "cell_type": "code",
   "execution_count": 19,
   "metadata": {},
   "outputs": [
    {
     "data": {
      "image/png": "[encoded data removed]",
      "text/plain": [
       "<Figure size 640x480 with 1 Axes>"
      ]
     },
     "metadata": {},
     "output_type": "display_data"
    }
   ],
   "source": [
    "# show training history\n",
    "import matplotlib.pyplot as plt\n",
    "\n",
    "plt.plot(history.history['loss'], label='train')\n",
    "plt.plot(history.history['val_loss'], label='validation')\n",
    "plt.legend()\n",
    "plt.show()"
   ]
  },
  {
   "cell_type": "markdown",
   "metadata": {},
   "source": [
    "# get "
   ]
  }
 ],
 "metadata": {
  "kernelspec": {
   "display_name": "laser",
   "language": "python",
   "name": "python3"
  },
  "language_info": {
   "codemirror_mode": {
    "name": "ipython",
    "version": 3
   },
   "file_extension": ".py",
   "mimetype": "text/x-python",
   "name": "python",
   "nbconvert_exporter": "python",
   "pygments_lexer": "ipython3",
   "version": "3.10.12"
  }
 },
 "nbformat": 4,
 "nbformat_minor": 2
}
